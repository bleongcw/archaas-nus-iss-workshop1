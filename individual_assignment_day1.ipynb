{
 "cells": [
  {
   "cell_type": "markdown",
   "id": "bc1524b8",
   "metadata": {},
   "source": [
    "# OpenAI APIs Assignment: Prompt Engineering & Agents\n",
    "\n",
    "## Assignment Overview\n",
    "This assignment focuses on two main scenarios:\n",
    "* Tool Use with Wikipedia: Implementing function calling with Wikipedia integration\n",
    "** AI Agent Development: Creating specialized agents using OpenAI Agents SDK\n",
    "\n",
    "## Assignment Structure\n",
    "Part 1: Tool Use with Wikipedia Integration \n",
    "Objective: Create a research assistant that can search Wikipedia and provide comprehensive information using OpenAI's function calling capabilities.\n",
    "\n",
    "## Requirements:\n",
    "* Wikipedia Search Function: Implement a function to search Wikipedia articles\n",
    "* Content Extraction: Extract and summarize article content\n",
    "* Function Calling: Use OpenAI's function calling to integrate Wikipedia data\n",
    "* Structured Output: Return information in a structured format\n",
    "* Error Handling: Handle cases where articles don't exist or are ambiguous\n",
    "\n",
    "## Key Implementation Tasks:\n",
    "\n",
    "```# Required libraries\n",
    "import wikipedia\n",
    "import openai\n",
    "from dotenv import load_dotenv\n",
    "\n",
    "# Function 1: Wikipedia Search\n",
    "def search_wikipedia(query):\n",
    "    \"\"\"Search Wikipedia for articles related to the query\"\"\"\n",
    "    # Students implement Wikipedia search using wikipediaapi\n",
    "    # Return structured results with titles and descriptions\n",
    "\n",
    "# Function 2: Content Extraction  \n",
    "def get_wikipedia_content(title):\n",
    "    \"\"\"Get full content of a Wikipedia article\"\"\"\n",
    "    # Students implement content extraction\n",
    "    # Handle missing articles and disambiguation\n",
    "\n",
    "# Function 3: OpenAI Function Calling\n",
    "def handle_wikipedia_research(query):\n",
    "    \"\"\"Complete function calling workflow\"\"\"\n",
    "    # Students implement the full workflow:\n",
    "    # 1. Send query to OpenAI with function definitions\n",
    "    # 2. Handle function calls (search_wikipedia, get_wikipedia_content)\n",
    "    # 3. Execute requested functions\n",
    "    # 4. Send results back to OpenAI for final response\n",
    "```\n",
    "\n",
    "## You can use one of these test cases to show:\n",
    "* \"What is artificial intelligence?\"\n",
    "* \"Tell me about the history of Singapore\"\n",
    "* \"Explain quantum computing\"\n"
   ]
  },
  {
   "cell_type": "code",
   "execution_count": 2,
   "id": "d4a3f164",
   "metadata": {},
   "outputs": [
    {
     "name": "stdout",
     "output_type": "stream",
     "text": [
      "Artificial intelligence (AI) is the capability of computational systems to perform tasks typically associated with human intelligence, such as learning, reasoning, problem-solving, perception, and decision-making. It is a field of research in computer science that develops and studies methods and software that enable machines to perceive their environment and use learning and intelligence to take actions that maximize their chances of achieving defined goals.\n",
      "High-profile applications of AI include advanced web search engines (e.g., Google Search); recommendation systems (used by YouTube, Amazon, and Netflix); virtual assistants (e.g., Google Assistant, Siri, and Alexa); autonomous vehicles (e.g., Waymo); generative and creative tools (e.g., language models and AI art); and superhuman play and analysis in strategy games (e.g., chess and Go). However, many AI applications are not perceived as AI: \"A lot of cutting edge AI has filtered into general applications, often without being calle\n"
     ]
    }
   ],
   "source": [
    "#Wikipedia Search Function\n",
    "import wikipedia\n",
    "\n",
    "def get_article(search_term):\n",
    "    results = wikipedia.search(search_term)\n",
    "    first_result = results[0]\n",
    "    page = wikipedia.page(first_result, auto_suggest=False)\n",
    "    return page.content\n",
    "\n",
    "article = get_article(\"What is artificial intelligence?\")\n",
    "print(article[:1000]) # article is very long, so let's just print a preview"
   ]
  },
  {
   "cell_type": "code",
   "execution_count": null,
   "id": "5e7415c5",
   "metadata": {},
   "outputs": [],
   "source": [
    "#Assignment 1 - Your Answer "
   ]
  },
  {
   "cell_type": "markdown",
   "id": "1c3a44be",
   "metadata": {},
   "source": []
  }
 ],
 "metadata": {
  "kernelspec": {
   "display_name": "Python (langchain_env)",
   "language": "python",
   "name": "langchain_env"
  },
  "language_info": {
   "codemirror_mode": {
    "name": "ipython",
    "version": 3
   },
   "file_extension": ".py",
   "mimetype": "text/x-python",
   "name": "python",
   "nbconvert_exporter": "python",
   "pygments_lexer": "ipython3",
   "version": "3.12.2"
  }
 },
 "nbformat": 4,
 "nbformat_minor": 5
}
